{
 "metadata": {
  "name": "",
  "signature": "sha256:387eb5346e2caefd8367333c65f135b21de6e741d06bf8b86e22c764f60333fb"
 },
 "nbformat": 3,
 "nbformat_minor": 0,
 "worksheets": [
  {
   "cells": [
    {
     "cell_type": "code",
     "collapsed": false,
     "input": [
      "#Read the data\n",
      "import matplotlib as mplot\n",
      "import csv\n",
      "import gzip\n",
      "import numpy as np\n",
      "import pylab as pl\n",
      "\n",
      "train_filename = 'train.csv.gz'\n",
      "test_filename  = 'test.csv.gz'\n",
      "pred_filename  = 'example_mean.csv'\n",
      "\n",
      "# Load the training file.\n",
      "train_data = []\n",
      "with gzip.open(train_filename, 'r') as train_fh:\n",
      "\n",
      "    # Parse it as a CSV file.\n",
      "    train_csv = csv.reader(train_fh, delimiter=',', quotechar='\"')\n",
      "\n",
      "    # Skip the header row.\n",
      "    next(train_csv, None)\n",
      "\n",
      "    # Load the data.\n",
      "    for row in train_csv:\n",
      "        smiles   = row[0]\n",
      "        features = np.array([float(x) for x in row[1:257]])\n",
      "        gap      = float(row[257])\n",
      "\n",
      "        train_data.append({ 'smiles':   smiles,\n",
      "                            'features': features,\n",
      "                            'gap':      gap })\n",
      "\n",
      "# Compute the mean of the gaps in the training data.\n",
      "gaps = np.array([datum['gap'] for datum in train_data])\n",
      "\n",
      "feature = np.array([datum['features'] for datum in train_data])\n",
      "feature_sub = feature[1:500, ]\n"
     ],
     "language": "python",
     "metadata": {},
     "outputs": []
    },
    {
     "cell_type": "code",
     "collapsed": false,
     "input": [
      "import random\n",
      "import sklearn"
     ],
     "language": "python",
     "metadata": {},
     "outputs": [],
     "prompt_number": 10
    },
    {
     "cell_type": "code",
     "collapsed": false,
     "input": [
      "# Load the test file.\n",
      "test_data = []\n",
      "with gzip.open(test_filename, 'r') as test_fh:\n",
      "\n",
      "    # Parse it as a CSV file.\n",
      "    test_csv = csv.reader(test_fh, delimiter=',', quotechar='\"')\n",
      "\n",
      "    # Skip the header row.\n",
      "    next(test_csv, None)\n",
      "\n",
      "    # Load the data.\n",
      "    for row in test_csv:\n",
      "        id       = row[0]\n",
      "        smiles   = row[1]\n",
      "        features = np.array([float(x) for x in row[2:258]])\n",
      "\n",
      "        test_data.append({ 'id':       id,\n",
      "                           'smiles':   smiles,\n",
      "                           'features': features })\n"
     ],
     "language": "python",
     "metadata": {},
     "outputs": []
    },
    {
     "cell_type": "code",
     "collapsed": false,
     "input": [
      "# Write a prediction file.\n",
      "with open(pred_filename, 'w') as pred_fh:\n",
      "\n",
      "    # Produce a CSV file.\n",
      "    pred_csv = csv.writer(pred_fh, delimiter=',', quotechar='\"')\n",
      "\n",
      "    # Write the header row.\n",
      "    pred_csv.writerow(['Id', 'Prediction'])\n",
      "\n",
      "    for datum in test_data:\n",
      "        pred_csv.writerow([datum['id'], gap])"
     ],
     "language": "python",
     "metadata": {},
     "outputs": []
    },
    {
     "cell_type": "code",
     "collapsed": false,
     "input": [
      "from sklearn import linear_model"
     ],
     "language": "python",
     "metadata": {},
     "outputs": [],
     "prompt_number": 11
    },
    {
     "cell_type": "code",
     "collapsed": false,
     "input": [
      "from sklearn import linear_model\n",
      "from sklearn.linear_model import Ridge"
     ],
     "language": "python",
     "metadata": {},
     "outputs": [],
     "prompt_number": 12
    },
    {
     "cell_type": "code",
     "collapsed": false,
     "input": [
      "from sklearn.linear_model import Ridge\n",
      "import numpy as np\n",
      "MAE=[]\n",
      "for i in range(3):\n",
      "    index_start=random.randrange(100000, 900000)\n",
      "    index_end=index_start+100000\n",
      "\n",
      "    #Divide the training data into two parts, this is the training part\n",
      "    y=[]\n",
      "    X=[]\n",
      "\n",
      "    for i in range(index_start):\n",
      "        y.append(train_data[i]['gap'])\n",
      "        X.append(train_data[i]['features'])\n",
      "    \n",
      "    for i in range(index_end,len(train_data)):\n",
      "        y.append(train_data[i]['gap'])\n",
      "        X.append(train_data[i]['features'])\n",
      "    y=np.array(y)\n",
      "    X=np.array(X)\n",
      "\n",
      "    #Divide the training data into two parts, this is the testing part\n",
      "    y_test=[]\n",
      "    X_test=[]\n",
      "    for i in range(index_start,index_end):\n",
      "        y_test.append(train_data[i]['gap'])\n",
      "        X_test.append(train_data[i]['features'])\n",
      "    y_test=np.array(y)\n",
      "    X_test=np.array(X)\n",
      "\n",
      "    #Ridge Regression\n",
      "    clf = Ridge(alpha=1.0)\n",
      "    clf.fit(X, y) \n",
      "    Ridge(alpha=1.0, copy_X=True, fit_intercept=True, max_iter=None,normalize=False, solver='auto', tol=0.001)\n",
      "\n",
      "    #Predict y_test value\n",
      "    y_test_pred=clf.predict(X_test)\n",
      "\n",
      "    #calculate the MAE of Ridge Regression\n",
      "    MAE.append(np.sqrt(sum((y_test_pred-y_test)**2)/(len(y_test_pred))))"
     ],
     "language": "python",
     "metadata": {},
     "outputs": []
    },
    {
     "cell_type": "code",
     "collapsed": false,
     "input": [
      "np.mean(MAE)"
     ],
     "language": "python",
     "metadata": {},
     "outputs": [
      {
       "metadata": {},
       "output_type": "pyout",
       "prompt_number": 134,
       "text": [
        "0.29889878531285824"
       ]
      }
     ],
     "prompt_number": 134
    },
    {
     "cell_type": "code",
     "collapsed": false,
     "input": [
      "from sklearn.linear_model import Lasso"
     ],
     "language": "python",
     "metadata": {},
     "outputs": [],
     "prompt_number": 137
    },
    {
     "cell_type": "code",
     "collapsed": false,
     "input": [
      "#Lasso Regression\n",
      "from sklearn import linear_model\n",
      "import numpy as np\n",
      "MAE=[]\n",
      "for i in range(3):\n",
      "    index_start=random.randrange(100000, 900000)\n",
      "    index_end=index_start+100000\n",
      "\n",
      "    #Divide the training data into two parts, this is the training part\n",
      "    y=[]\n",
      "    X=[]\n",
      "\n",
      "    for i in range(index_start):\n",
      "        y.append(train_data[i]['gap'])\n",
      "        X.append(train_data[i]['features'])\n",
      "    \n",
      "    for i in range(index_end,len(train_data)):\n",
      "        y.append(train_data[i]['gap'])\n",
      "        X.append(train_data[i]['features'])\n",
      "    y=np.array(y)\n",
      "    X=np.array(X)\n",
      "\n",
      "    #Divide the training data into two parts, this is the testing part\n",
      "    y_test=[]\n",
      "    X_test=[]\n",
      "    for i in range(index_start,index_end):\n",
      "        y_test.append(train_data[i]['gap'])\n",
      "        X_test.append(train_data[i]['features'])\n",
      "    y_test=np.array(y)\n",
      "    X_test=np.array(X)\n",
      "\n",
      "    #Lasso Regression\n",
      "    clf = linear_model.Lasso(alpha=0.1)\n",
      "    clf.fit(X, y) \n",
      "    Lasso(alpha=0.1, copy_X=True, fit_intercept=True, max_iter=1000,normalize=False, positive=False, precompute='auto', tol=0.0001,warm_start=False)\n",
      "\n",
      "    #Predict y_test value\n",
      "    y_test_pred=clf.predict(X_test)\n",
      "\n",
      "    #calculate the MAE of Ridge Regression\n",
      "    MAE.append(np.sqrt(sum((y_test_pred-y_test)**2)/(len(y_test_pred))))"
     ],
     "language": "python",
     "metadata": {},
     "outputs": [],
     "prompt_number": 138
    },
    {
     "cell_type": "code",
     "collapsed": false,
     "input": [
      "MAE"
     ],
     "language": "python",
     "metadata": {},
     "outputs": [
      {
       "metadata": {},
       "output_type": "pyout",
       "prompt_number": 139,
       "text": [
        "[0.40719468702011047, 0.40711957896202594, 0.40729417393728784]"
       ]
      }
     ],
     "prompt_number": 139
    },
    {
     "cell_type": "code",
     "collapsed": false,
     "input": [
      "from sklearn.linear_model import ElasticNet"
     ],
     "language": "python",
     "metadata": {},
     "outputs": [
      {
       "ename": "ImportError",
       "evalue": "cannot import name inplace_column_scale",
       "output_type": "pyerr",
       "traceback": [
        "\u001b[0;31m---------------------------------------------------------------------------\u001b[0m\n\u001b[0;31mImportError\u001b[0m                               Traceback (most recent call last)",
        "\u001b[0;32m<ipython-input-14-a2bcbffc2167>\u001b[0m in \u001b[0;36m<module>\u001b[0;34m()\u001b[0m\n\u001b[0;32m----> 1\u001b[0;31m \u001b[0;32mfrom\u001b[0m \u001b[0msklearn\u001b[0m\u001b[0;34m.\u001b[0m\u001b[0mlinear_model\u001b[0m \u001b[0;32mimport\u001b[0m \u001b[0mElasticNet\u001b[0m\u001b[0;34m\u001b[0m\u001b[0m\n\u001b[0m",
        "\u001b[0;32m/Users/vivian/anaconda/lib/python2.7/site-packages/sklearn/linear_model/__init__.py\u001b[0m in \u001b[0;36m<module>\u001b[0;34m()\u001b[0m\n\u001b[1;32m     10\u001b[0m \u001b[0;31m# complete documentation.\u001b[0m\u001b[0;34m\u001b[0m\u001b[0;34m\u001b[0m\u001b[0m\n\u001b[1;32m     11\u001b[0m \u001b[0;34m\u001b[0m\u001b[0m\n\u001b[0;32m---> 12\u001b[0;31m \u001b[0;32mfrom\u001b[0m \u001b[0;34m.\u001b[0m\u001b[0mbase\u001b[0m \u001b[0;32mimport\u001b[0m \u001b[0mLinearRegression\u001b[0m\u001b[0;34m\u001b[0m\u001b[0m\n\u001b[0m\u001b[1;32m     13\u001b[0m \u001b[0;34m\u001b[0m\u001b[0m\n\u001b[1;32m     14\u001b[0m \u001b[0;32mfrom\u001b[0m \u001b[0;34m.\u001b[0m\u001b[0mbayes\u001b[0m \u001b[0;32mimport\u001b[0m \u001b[0mBayesianRidge\u001b[0m\u001b[0;34m,\u001b[0m \u001b[0mARDRegression\u001b[0m\u001b[0;34m\u001b[0m\u001b[0m\n",
        "\u001b[0;32m/Users/vivian/anaconda/lib/python2.7/site-packages/sklearn/linear_model/base.py\u001b[0m in \u001b[0;36m<module>\u001b[0;34m()\u001b[0m\n\u001b[1;32m     28\u001b[0m \u001b[0;32mfrom\u001b[0m \u001b[0;34m.\u001b[0m\u001b[0;34m.\u001b[0m\u001b[0mutils\u001b[0m \u001b[0;32mimport\u001b[0m \u001b[0mas_float_array\u001b[0m\u001b[0;34m,\u001b[0m \u001b[0matleast2d_or_csr\u001b[0m\u001b[0;34m,\u001b[0m \u001b[0msafe_asarray\u001b[0m\u001b[0;34m\u001b[0m\u001b[0m\n\u001b[1;32m     29\u001b[0m \u001b[0;32mfrom\u001b[0m \u001b[0;34m.\u001b[0m\u001b[0;34m.\u001b[0m\u001b[0mutils\u001b[0m\u001b[0;34m.\u001b[0m\u001b[0mextmath\u001b[0m \u001b[0;32mimport\u001b[0m \u001b[0msafe_sparse_dot\u001b[0m\u001b[0;34m\u001b[0m\u001b[0m\n\u001b[0;32m---> 30\u001b[0;31m \u001b[0;32mfrom\u001b[0m \u001b[0;34m.\u001b[0m\u001b[0;34m.\u001b[0m\u001b[0mutils\u001b[0m\u001b[0;34m.\u001b[0m\u001b[0msparsefuncs\u001b[0m \u001b[0;32mimport\u001b[0m \u001b[0mmean_variance_axis0\u001b[0m\u001b[0;34m,\u001b[0m \u001b[0minplace_column_scale\u001b[0m\u001b[0;34m\u001b[0m\u001b[0m\n\u001b[0m\u001b[1;32m     31\u001b[0m \u001b[0;34m\u001b[0m\u001b[0m\n\u001b[1;32m     32\u001b[0m \u001b[0;34m\u001b[0m\u001b[0m\n",
        "\u001b[0;31mImportError\u001b[0m: cannot import name inplace_column_scale"
       ]
      }
     ],
     "prompt_number": 14
    },
    {
     "cell_type": "code",
     "collapsed": false,
     "input": [
      "#Elastic Net Regression\n",
      "from sklearn import linear_model\n",
      "import numpy as np\n",
      "MAE=[]\n",
      "for i in range(3):\n",
      "    index_start=random.randrange(100000, 900000)\n",
      "    index_end=index_start+100000\n",
      "\n",
      "    #Divide the training data into two parts, this is the training part\n",
      "    y=[]\n",
      "    X=[]\n",
      "\n",
      "    for i in range(index_start):\n",
      "        y.append(train_data[i]['gap'])\n",
      "        X.append(train_data[i]['features'])\n",
      "    \n",
      "    for i in range(index_end,len(train_data)):\n",
      "        y.append(train_data[i]['gap'])\n",
      "        X.append(train_data[i]['features'])\n",
      "    y=np.array(y)\n",
      "    X=np.array(X)\n",
      "\n",
      "    #Divide the training data into two parts, this is the testing part\n",
      "    y_test=[]\n",
      "    X_test=[]\n",
      "    for i in range(index_start,index_end):\n",
      "        y_test.append(train_data[i]['gap'])\n",
      "        X_test.append(train_data[i]['features'])\n",
      "    y_test=np.array(y)\n",
      "    X_test=np.array(X)\n",
      "\n",
      "    #Lasso Regression\n",
      "    clf = linear_model.Lasso(alpha=0.1)\n",
      "    clf.fit(X, y) \n",
      "    ElasticNet(alpha=1.0, l1_ratio=0.5, fit_intercept=True, normalize=False, precompute='auto', max_iter=1000, copy_X=True, tol=0.0001, warm_start=False, positive=False)\n",
      "    #Predict y_test value\n",
      "    y_test_pred=clf.predict(X_test)\n",
      "\n",
      "    #calculate the MAE of Ridge Regression\n",
      "    MAE.append(np.sqrt(sum((y_test_pred-y_test)**2)/(len(y_test_pred))))"
     ],
     "language": "python",
     "metadata": {},
     "outputs": [],
     "prompt_number": 142
    },
    {
     "cell_type": "code",
     "collapsed": false,
     "input": [
      "MAE"
     ],
     "language": "python",
     "metadata": {},
     "outputs": [
      {
       "metadata": {},
       "output_type": "pyout",
       "prompt_number": 143,
       "text": [
        "[0.40711052987632579, 0.40723293414923145, 0.40721502813940724]"
       ]
      }
     ],
     "prompt_number": 143
    },
    {
     "cell_type": "code",
     "collapsed": false,
     "input": [
      "import sklearn"
     ],
     "language": "python",
     "metadata": {},
     "outputs": [],
     "prompt_number": 9
    },
    {
     "cell_type": "code",
     "collapsed": false,
     "input": [
      "#from sklearn import emsemble\n",
      "from sklearn.emsemble import RandomForestRegressor"
     ],
     "language": "python",
     "metadata": {},
     "outputs": [
      {
       "ename": "ImportError",
       "evalue": "No module named emsemble",
       "output_type": "pyerr",
       "traceback": [
        "\u001b[0;31m---------------------------------------------------------------------------\u001b[0m\n\u001b[0;31mImportError\u001b[0m                               Traceback (most recent call last)",
        "\u001b[0;32m<ipython-input-18-ca4d1884307c>\u001b[0m in \u001b[0;36m<module>\u001b[0;34m()\u001b[0m\n\u001b[1;32m      1\u001b[0m \u001b[0;31m#from sklearn import emsemble\u001b[0m\u001b[0;34m\u001b[0m\u001b[0;34m\u001b[0m\u001b[0m\n\u001b[0;32m----> 2\u001b[0;31m \u001b[0;32mfrom\u001b[0m \u001b[0msklearn\u001b[0m\u001b[0;34m.\u001b[0m\u001b[0memsemble\u001b[0m \u001b[0;32mimport\u001b[0m \u001b[0mRandomForestRegressor\u001b[0m\u001b[0;34m\u001b[0m\u001b[0m\n\u001b[0m",
        "\u001b[0;31mImportError\u001b[0m: No module named emsemble"
       ]
      }
     ],
     "prompt_number": 18
    },
    {
     "cell_type": "code",
     "collapsed": false,
     "input": [
      "#Random Forest Regression\n",
      "from sklearn import linear_model\n",
      "import numpy as np\n",
      "MAE=[]\n",
      "for i in range(3):\n",
      "    index_start=random.randrange(100000, 900000)\n",
      "    index_end=index_start+100000\n",
      "\n",
      "    #Divide the training data into two parts, this is the training part\n",
      "    y=[]\n",
      "    X=[]\n",
      "\n",
      "    for i in range(index_start):\n",
      "        y.append(train_data[i]['gap'])\n",
      "        X.append(train_data[i]['features'])\n",
      "    \n",
      "    for i in range(index_end,len(train_data)):\n",
      "        y.append(train_data[i]['gap'])\n",
      "        X.append(train_data[i]['features'])\n",
      "    y=np.array(y)\n",
      "    X=np.array(X)\n",
      "\n",
      "    #Divide the training data into two parts, this is the testing part\n",
      "    y_test=[]\n",
      "    X_test=[]\n",
      "    for i in range(index_start,index_end):\n",
      "        y_test.append(train_data[i]['gap'])\n",
      "        X_test.append(train_data[i]['features'])\n",
      "    y_test=np.array(y)\n",
      "    X_test=np.array(X)\n",
      "\n",
      "    #Lasso Regression\n",
      "    clf = linear_model.Lasso(alpha=0.1)\n",
      "    clf.fit(X, y) \n",
      "    ElasticNet(alpha=1.0, l1_ratio=0.5, fit_intercept=True, normalize=False, precompute='auto', max_iter=1000, copy_X=True, tol=0.0001, warm_start=False, positive=False)\n",
      "    #Predict y_test value\n",
      "    y_test_pred=clf.predict(X_test)\n",
      "\n",
      "    #calculate the MAE of Ridge Regression\n",
      "    MAE.append(np.sqrt(sum((y_test_pred-y_test)**2)/(len(y_test_pred))))"
     ],
     "language": "python",
     "metadata": {},
     "outputs": []
    },
    {
     "cell_type": "code",
     "collapsed": false,
     "input": [
      "MAE"
     ],
     "language": "python",
     "metadata": {},
     "outputs": []
    },
    {
     "cell_type": "code",
     "collapsed": false,
     "input": [],
     "language": "python",
     "metadata": {},
     "outputs": []
    }
   ],
   "metadata": {}
  }
 ]
}