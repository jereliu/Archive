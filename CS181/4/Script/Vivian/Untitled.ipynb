{
 "cells": [
  {
   "cell_type": "code",
   "execution_count": 1,
   "metadata": {
    "collapsed": false
   },
   "outputs": [
    {
     "ename": "error",
     "evalue": "File is not a Windows BMP file",
     "output_type": "error",
     "traceback": [
      "\u001b[0;31m---------------------------------------------------------------------------\u001b[0m",
      "\u001b[0;31merror\u001b[0m                                     Traceback (most recent call last)",
      "\u001b[0;32m<ipython-input-1-d1b2a53ed4ff>\u001b[0m in \u001b[0;36m<module>\u001b[0;34m()\u001b[0m\n\u001b[1;32m     50\u001b[0m                          \u001b[0mtick_length\u001b[0m\u001b[0;34m=\u001b[0m\u001b[0;36m1\u001b[0m\u001b[0;34m,\u001b[0m          \u001b[0;31m# Make game ticks super fast.\u001b[0m\u001b[0;34m\u001b[0m\u001b[0m\n\u001b[1;32m     51\u001b[0m                          \u001b[0maction_callback\u001b[0m\u001b[0;34m=\u001b[0m\u001b[0mlearner\u001b[0m\u001b[0;34m.\u001b[0m\u001b[0maction_callback\u001b[0m\u001b[0;34m,\u001b[0m\u001b[0;34m\u001b[0m\u001b[0m\n\u001b[0;32m---> 52\u001b[0;31m                          reward_callback=learner.reward_callback)\n\u001b[0m\u001b[1;32m     53\u001b[0m \u001b[0;34m\u001b[0m\u001b[0m\n\u001b[1;32m     54\u001b[0m     \u001b[0;31m# Loop until you hit something.\u001b[0m\u001b[0;34m\u001b[0m\u001b[0;34m\u001b[0m\u001b[0m\n",
      "\u001b[0;32m/Users/vivian/Documents/CS-181-Practical-4/Script/Vivian/SwingyMonkey.pyc\u001b[0m in \u001b[0;36m__init__\u001b[0;34m(self, sound, text, action_callback, reward_callback, tick_length)\u001b[0m\n\u001b[1;32m     65\u001b[0m \u001b[0;34m\u001b[0m\u001b[0m\n\u001b[1;32m     66\u001b[0m         \u001b[0;31m# Load external resources.\u001b[0m\u001b[0;34m\u001b[0m\u001b[0;34m\u001b[0m\u001b[0m\n\u001b[0;32m---> 67\u001b[0;31m         \u001b[0mself\u001b[0m\u001b[0;34m.\u001b[0m\u001b[0mbackground_img\u001b[0m \u001b[0;34m=\u001b[0m \u001b[0mpg\u001b[0m\u001b[0;34m.\u001b[0m\u001b[0mimage\u001b[0m\u001b[0;34m.\u001b[0m\u001b[0mload\u001b[0m\u001b[0;34m(\u001b[0m\u001b[0;34m'res/jungle-pixel.png'\u001b[0m\u001b[0;34m)\u001b[0m\u001b[0;34m.\u001b[0m\u001b[0mconvert\u001b[0m\u001b[0;34m(\u001b[0m\u001b[0;34m)\u001b[0m\u001b[0;34m\u001b[0m\u001b[0m\n\u001b[0m\u001b[1;32m     68\u001b[0m         \u001b[0mself\u001b[0m\u001b[0;34m.\u001b[0m\u001b[0mmonkey_img\u001b[0m     \u001b[0;34m=\u001b[0m \u001b[0mpg\u001b[0m\u001b[0;34m.\u001b[0m\u001b[0mimage\u001b[0m\u001b[0;34m.\u001b[0m\u001b[0mload\u001b[0m\u001b[0;34m(\u001b[0m\u001b[0;34m'res/monkey.png'\u001b[0m\u001b[0;34m)\u001b[0m\u001b[0;34m.\u001b[0m\u001b[0mconvert_alpha\u001b[0m\u001b[0;34m(\u001b[0m\u001b[0;34m)\u001b[0m\u001b[0;34m\u001b[0m\u001b[0m\n\u001b[1;32m     69\u001b[0m         \u001b[0mself\u001b[0m\u001b[0;34m.\u001b[0m\u001b[0mtree_img\u001b[0m       \u001b[0;34m=\u001b[0m \u001b[0mpg\u001b[0m\u001b[0;34m.\u001b[0m\u001b[0mimage\u001b[0m\u001b[0;34m.\u001b[0m\u001b[0mload\u001b[0m\u001b[0;34m(\u001b[0m\u001b[0;34m'res/tree-pixel.png'\u001b[0m\u001b[0;34m)\u001b[0m\u001b[0;34m.\u001b[0m\u001b[0mconvert_alpha\u001b[0m\u001b[0;34m(\u001b[0m\u001b[0;34m)\u001b[0m\u001b[0;34m\u001b[0m\u001b[0m\n",
      "\u001b[0;31merror\u001b[0m: File is not a Windows BMP file"
     ]
    }
   ],
   "source": [
    "import numpy.random as npr\n",
    "import sys\n",
    "\n",
    "from SwingyMonkey import SwingyMonkey\n",
    "\n",
    "class Learner:\n",
    "\n",
    "    def __init__(self):\n",
    "        self.last_state  = None\n",
    "        self.last_action = None\n",
    "        self.last_reward = None\n",
    "\n",
    "    def reset(self):\n",
    "        self.last_state  = None\n",
    "        self.last_action = None\n",
    "        self.last_reward = None\n",
    "\n",
    "    def action_callback(self, state):\n",
    "        '''\n",
    "        Implement this function to learn things and take actions.\n",
    "        Return 0 if you don't want to jump and 1 if you do.\n",
    "        '''\n",
    "\n",
    "        # You might do some learning here based on the current state and the last state.\n",
    "\n",
    "        # You'll need to take an action, too, and return it.\n",
    "        # Return 0 to swing and 1 to jump.\n",
    "\n",
    "        new_action = npr.rand() < 0.1\n",
    "        new_state  = state\n",
    "\n",
    "        self.last_action = new_action\n",
    "        self.last_state  = new_state\n",
    "\n",
    "        return self.last_action\n",
    "\n",
    "    def reward_callback(self, reward):\n",
    "        '''This gets called so you can see what reward you get.'''\n",
    "\n",
    "        self.last_reward = reward\n",
    "\n",
    "iters = 100\n",
    "learner = Learner()\n",
    "\n",
    "for ii in xrange(iters):\n",
    "\n",
    "    # Make a new monkey object.\n",
    "    swing = SwingyMonkey(sound=False,            # Don't play sounds.\n",
    "                         text=\"Epoch %d\" % (ii), # Display the epoch on screen.\n",
    "                         tick_length=1,          # Make game ticks super fast.\n",
    "                         action_callback=learner.action_callback,\n",
    "                         reward_callback=learner.reward_callback)\n",
    "\n",
    "    # Loop until you hit something.\n",
    "    while swing.game_loop():\n",
    "        pass\n",
    "\n",
    "    # Reset the state of the learner.\n",
    "    learner.reset()\n",
    "\n",
    "\n",
    "\n",
    "    \n",
    "\n"
   ]
  },
  {
   "cell_type": "code",
   "execution_count": null,
   "metadata": {
    "collapsed": true
   },
   "outputs": [],
   "source": []
  }
 ],
 "metadata": {
  "kernelspec": {
   "display_name": "Python 2",
   "language": "python",
   "name": "python2"
  },
  "language_info": {
   "codemirror_mode": {
    "name": "ipython",
    "version": 2
   },
   "file_extension": ".py",
   "mimetype": "text/x-python",
   "name": "python",
   "nbconvert_exporter": "python",
   "pygments_lexer": "ipython2",
   "version": "2.7.9"
  }
 },
 "nbformat": 4,
 "nbformat_minor": 0
}
